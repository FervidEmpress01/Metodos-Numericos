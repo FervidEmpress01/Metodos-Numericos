{
 "cells": [
  {
   "cell_type": "markdown",
   "id": "ee16b6c0",
   "metadata": {},
   "source": [
    "<h1 style=\"text-align:center;\">ESCUELA POLITÉCNICA NACIONAL</h1>\n",
    "<h2 style=\"text-align:center;\">FACULTAD DE INGENIERÍA DE SISTEMAS</h2>\n",
    "<h3 style=\"text-align:center;\">INGENIERÍA EN CIENCIA DE LA COMPUTACION</h3>"
   ]
  },
  {
   "cell_type": "markdown",
   "id": "ad388b9c",
   "metadata": {},
   "source": [
    "**PERÍODO ACADÉMICO:** 2025-B  \n",
    "**ASIGNATURA:** ICCD412 Métodos Numéricos  \n",
    "**GRUPO:** GR1  \n",
    "**Taller 2**   \n",
    "**ALUMNO:** Carrion Mauricio"
   ]
  },
  {
   "cell_type": "markdown",
   "id": "bd14e400",
   "metadata": {},
   "source": [
    "\n",
    "#### Taller 02: Cálculo de raíces\n",
    "1. Encuentre todas las raíces del polinomio $$x4+540∗x3+109124∗x2+9781632∗x+328188672=0$$\n",
    "\n",
    "2. Encuentre todos los puntos en los que la curva $(\\frac{y}{2})^2=(\\frac{x+3}{2})^2 − 1$\n",
    " interseca el eje y=−2\n",
    "\n",
    "3. Dada la función $f(x)=\\frac{sin(x)}{x}$ ¿A partir de qué valor $x_T$\n",
    " se cumple que f(x)<0.015,∀x≥xT\n",
    " ?\n",
    "\n",
    "#### Indicaciones\n",
    "\n",
    "* Incluir una gráfica de las curvas y el corte con el eje, además, una animación del proceso iterativo del algoritmo seleccionado PARA CADA LITERAL. \n",
    "* Utilizar el método de Newton y el método de la Bisección para resolver los ejercicios planteados. Utilize funciones únicamente de la librería scipy. \n",
    "* NO USAR CHATGPT (ni similares). \n",
    "* Subir archivo pdf y enlace de repositorio público en Github. "
   ]
  },
  {
   "cell_type": "code",
   "execution_count": 7,
   "id": "17c8a044",
   "metadata": {},
   "outputs": [],
   "source": [
    "from scipy.optimize import newton\n",
    "from scipy.optimize import bisect\n",
    "import numpy as np\n",
    "import plotly.graph_objects as go"
   ]
  },
  {
   "cell_type": "code",
   "execution_count": 8,
   "id": "10c7542d",
   "metadata": {},
   "outputs": [
    {
     "name": "stdout",
     "output_type": "stream",
     "text": [
      "Raíces (con repetición): [-152.         -136.         -125.99999461]\n"
     ]
    }
   ],
   "source": [
    "def f(x):\n",
    "    return x**4 + 540*x**3 + 109124*x**2 + 9781632*x + 328188672\n",
    "\n",
    "def fprime(x):\n",
    "    return 4*x**3 + 1620*x**2 + 218248*x + 9781632\n",
    "\n",
    "x0 = [-200, -140, -130]\n",
    "root = newton(f, x0, fprime=fprime)\n",
    "print(f\"Raíces (con repetición): {root}\")"
   ]
  },
  {
   "cell_type": "code",
   "execution_count": 9,
   "id": "5f002c88",
   "metadata": {},
   "outputs": [
    {
     "data": {
      "application/vnd.plotly.v1+json": {
       "config": {
        "plotlyServerURL": "https://plot.ly"
       },
       "data": [
        {
         "line": {
          "color": "royalblue",
          "width": 2
         },
         "mode": "lines",
         "name": "Polinomio P(x)",
         "type": "scatter",
         "x": {
          "bdata": "AAAAAADAbMDKba6kBbdswJPbXEkLrmzAXUkL7hClbMAmt7mSFpxswPAkaDcck2zAupIW3CGKbMCDAMWAJ4FswE1ucyUteGzAF9whyjJvbMDgSdBuOGZswKq3fhM+XWzAcyUtuENUbMA9k9tcSUtswAcBigFPQmzA0G44plQ5bMCa3OZKWjBswGRKle9fJ2zALbhDlGUebMD3JfI4axVswMCToN1wDGzAigFPgnYDbMBUb/0mfPprwB3dq8uB8WvA50pacIfoa8CwuAgVjd9rwHomt7mS1mvARJRlXpjNa8ANAhQDnsRrwNdvwqeju2vAod1wTKmya8BqSx/xrqlrwDS5zZW0oGvA/SZ8OrqXa8DHlCrfv45rwJEC2YPFhWvAWnCHKMt8a8Ak3jXN0HNrwO5L5HHWamvAt7mSFtxha8CBJ0G74VhrwEqV71/nT2vAFAOeBO1Ga8DecEyp8j1rwKfe+k34NGvAcUyp8v0ra8A6uleXAyNrwAQoBjwJGmvAzpW04A4Ra8CXA2OFFAhrwGFxESoa/2rAK9+/zh/2asD0TG5zJe1qwL66HBgr5GrAhyjLvDDbasBRlnlhNtJqwBsEKAY8yWrA5HHWqkHAasCu34RPR7dqwHhNM/RMrmrAQbvhmFKlasALKZA9WJxqwNSWPuJdk2rAngTthmOKasBocpsraYFqwDHgSdBueGrA+034dHRvasDEu6YZemZqwI4pVb5/XWrAWJcDY4VUasAhBbIHi0tqwOtyYKyQQmrAteAOUZY5asB+Tr31mzBqwEi8a5qhJ2rAESoaP6ceasDbl8jjrBVqwKUFd4iyDGrAbnMlLbgDasA44dPRvfppwAJPgnbD8WnAy7wwG8noacCVKt+/zt9pwF6YjWTU1mnAKAY8CdrNacDyc+qt38RpwLvhmFLlu2nAhU9H9+qyacBOvfWb8KlpwBgrpED2oGnA4phS5fuXacCrBgGKAY9pwHV0ry4HhmnAP+Jd0wx9acAIUAx4EnRpwNK9uhwYa2nAnCtpwR1iacBlmRdmI1lpwC8HxgopUGnA+HR0ry5HacDC4iJUND5pwIxQ0fg5NWnAVb5/nT8sacAfLC5CRSNpwOiZ3OZKGmnAsgeLi1ARacB8dTkwVghpwEXj59Rb/2jAD1GWeWH2aMDYvkQeZ+1owKIs88Js5GjAbJqhZ3LbaMA1CFAMeNJowP91/rB9yWjAyeOsVYPAaMCSUVv6iLdowFy/CZ+OrmjAJi24Q5SlaMDvmmbomZxowLkIFY2fk2jAgnbDMaWKaMBM5HHWqoFowBZSIHuweGjA37/OH7ZvaMCpLX3Eu2ZowHKbK2nBXWjAPAnaDcdUaMAGd4iyzEtowM/kNlfSQmjAmVLl+9c5aMBiwJOg3TBowCwuQkXjJ2jA9pvw6egeaMC/CZ+O7hVowIl3TTP0DGjAUuX71/kDaMAcU6p8//pnwObAWCEF8mfAsC4HxgrpZ8B5nLVqEOBnwEMKZA8W12fADHgStBvOZ8DW5cBYIcVnwKBTb/0mvGfAacEdoiyzZ8AzL8xGMqpnwPyceus3oWfAxgopkD2YZ8CQeNc0Q49nwFnmhdlIhmfAI1Q0fk59Z8DsweIiVHRnwLYvkcdZa2fAgJ0/bF9iZ8BJC+4QZVlnwBN5nLVqUGfA3OZKWnBHZ8CmVPn+dT5nwHDCp6N7NWfAOjBWSIEsZ8ADngTthiNnwM0Ls5GMGmfAlnlhNpIRZ8Bg5w/blwhnwCpVvn+d/2bA88JsJKP2ZsC9MBvJqO1mwIaeyW2u5GbAUAx4ErTbZsAaeia3udJmwOPn1Fu/yWbArVWDAMXAZsB2wzGlyrdmwEAx4EnQrmbACp+O7tWlZsDTDD2T25xmwJ166zfhk2bAZuiZ3OaKZsAwVkiB7IFmwPrD9iXyeGbAxDGlyvdvZsCNn1Nv/WZmwFcNAhQDXmbAIHuwuAhVZsDq6F5dDkxmwLRWDQIUQ2bAfcS7phk6ZsBHMmpLHzFmwBCgGPAkKGbA2g3HlCofZsCke3U5MBZmwG3pI941DWbAN1fSgjsEZsAAxYAnQftlwMoyL8xG8mXAlKDdcEzpZcBdDowVUuBlwCd8OrpX12XA8OnoXl3OZcC6V5cDY8VlwITFRahovGXATjP0TG6zZcAXoaLxc6plwOEOUZZ5oWXAqnz/On+YZcB06q3fhI9lwD5YXISKhmXAB8YKKZB9ZcDRM7nNlXRlwJqhZ3Kba2XAZA8WF6FiZcAufcS7plllwPfqcmCsUGXAwVghBbJHZcCKxs+ptz5lwFQ0fk69NWXAHqIs88IsZcDnD9uXyCNlwLF9iTzOGmXAeus34dMRZcBEWeaF2QhlwA7HlCrf/2TA2DRDz+T2ZMChovFz6u1kwGsQoBjw5GTANH5OvfXbZMD+6/xh+9JkwMhZqwYBymTAkcdZqwbBZMBbNQhQDLhkwCSjtvQRr2TA7hBlmRemZMC4fhM+HZ1kwILsweIilGTAS1pwhyiLZMAUyB4sLoJkwN41zdAzeWTAqKN7dTlwZMByESoaP2dkwDt/2L5EXmTABO2GY0pVZMDOWjUIUExkwJjI46xVQ2TAYjaSUVs6ZMArpED2YDFkwPQR75pmKGTAvn+dP2wfZMCI7UvkcRZkwFJb+oh3DWTAG8moLX0EZMDlNlfSgvtjwK6kBXeI8mPAeBK0G47pY8BCgGLAk+BjwAzuEGWZ12PA1Vu/CZ/OY8CeyW2upMVjwGg3HFOqvGPAMqXK96+zY8D8EnmctapjwMWAJ0G7oWPAju7V5cCYY8BYXISKxo9jwCLKMi/MhmPA7Dfh09F9Y8C1pY9413RjwH4TPh3da2PASIHsweJiY8AS75pm6FljwNxcSQvuUGPApcr3r/NHY8BvOKZU+T5jwDimVPn+NWPAAhQDngQtY8DMgbFCCiRjwJbvX+cPG2PAX10OjBUSY8Aoy7wwGwljwPI4a9UgAGPAvKYZeib3YsCGFMgeLO5iwE+CdsMx5WLAGPAkaDfcYsDiXdMMPdNiwKzLgbFCymLAdjkwVkjBYsA/p976TbhiwAgVjZ9Tr2LA0oI7RFmmYsCc8OnoXp1iwGZemI1klGLAL8xGMmqLYsD5OfXWb4JiwMKno3t1eWLAjBVSIHtwYsBWgwDFgGdiwCDxrmmGXmLA6V5dDoxVYsCyzAuzkUxiwHw6uleXQ2LARqho/Jw6YsAQFhehojFiwNmDxUWoKGLAovFz6q0fYsBsXyKPsxZiwDbN0DO5DWLAADt/2L4EYsDJqC19xPthwJIW3CHK8mHAXISKxs/pYcAm8jhr1eBhwPBf5w/b12HAuc2VtODOYcCDO0RZ5sVhwEyp8v3rvGHAFhehovGzYcDghE9H96phwKry/ev8oWHAc2CskAKZYcA8zlo1CJBhwAY8CdoNh2HA0Km3fhN+YcCaF2YjGXVhwGOFFMgebGHALPPCbCRjYcD2YHERKlphwMDOH7YvUWHAijzOWjVIYcBTqnz/Oj9hwBwYK6RANmHA5oXZSEYtYcCw84ftSyRhwHphNpJRG2HAQ8/kNlcSYcANPZPbXAlhwNaqQYBiAGHAoBjwJGj3YMBqhp7Jbe5gwDT0TG5z5WDA/WH7EnncYMDGz6m3ftNgwJA9WFyEymDAWqsGAYrBYMAkGbWlj7hgwO2GY0qVr2DAtvQR75qmYMCAYsCToJ1gwErQbjimlGDAFD4d3auLYMDdq8uBsYJgwKYZeia3eWDAcIcoy7xwYMA69dZvwmdgwARjhRTIXmDAzdAzuc1VYMCXPuJd00xgwGCskALZQ2DAKho/p946YMD0h+1L5DFgwL71m/DpKGDAh2NKle8fYMBQ0fg59RZgwBo/p976DWDA5KxVgwAFYMBbNQhQDPhfwO4QZZkX5l/AgezB4iLUX8AUyB4sLsJfwKije3U5sF/AO3/YvkSeX8DOWjUIUIxfwGE2klFbel/A9RHvmmZoX8CI7UvkcVZfwBvJqC19RF/ArqQFd4gyX8BCgGLAkyBfwNVbvwmfDl/AaDccU6r8XsD7EnmctepewI/u1eXA2F7AIsoyL8zGXsC1pY9417RewEiB7MHiol7A3FxJC+6QXsBvOKZU+X5ewAIUA54EbV7Ale9f5w9bXsAoy7wwG0lewLymGXomN17AT4J2wzElXsDiXdMMPRNewHU5MFZIAV7ACRWNn1PvXcCc8OnoXt1dwC/MRjJqy13Awqeje3W5XcBWgwDFgKddwOleXQ6MlV3AfDq6V5eDXcAPFhehonFdwKPxc+qtX13ANs3QM7lNXcDJqC19xDtdwFyEisbPKV3A8F/nD9sXXcCDO0RZ5gVdwBYXoaLx81zAqfL96/zhXMA8zlo1CNBcwNCpt34TvlzAY4UUyB6sXMD2YHERKppcwIk8zlo1iFzAHRgrpEB2XMCw84ftS2RcwEPP5DZXUlzA1qpBgGJAXMBqhp7JbS5cwP1h+xJ5HFzAkD1YXIQKXMAjGbWlj/hbwLf0Ee+a5lvAStBuOKbUW8Ddq8uBscJbwHCHKMu8sFvABGOFFMieW8CXPuJd04xbwCoaP6feelvAvfWb8OloW8BQ0fg59VZbwOSsVYMARVvAd4iyzAszW8AKZA8WFyFbwJ0/bF8iD1vAMRvJqC39WsDE9iXyOOtawFfSgjtE2VrA6q3fhE/HWsB+iTzOWrVawBFlmRdmo1rApED2YHGRWsA3HFOqfH9awMv3r/OHbVrAXtMMPZNbWsDxrmmGnklawISKxs+pN1rAGGYjGbUlWsCrQYBiwBNawD4d3avLAVrA0fg59dbvWcBk1JY+4t1ZwPiv84fty1nAi4tQ0fi5WcAeZ60aBKhZwLFCCmQPllnARR5nrRqEWcDY+cP2JXJZwGzVIEAxYFnA/rB9iTxOWcCSjNrSRzxZwCRoNxxTKlnAuEOUZV4YWcBMH/GuaQZZwN76Tfh09FjActaqQYDiWMAGsgeLi9BYwJiNZNSWvljALGnBHaKsWMC+RB5nrZpYwFIge7C4iFjA5vvX+cN2WMB41zRDz2RYwAyzkYzaUljAno7u1eVAWMAyaksf8S5YwMZFqGj8HFjAWCEFsgcLWMDs/GH7EvlXwIDYvkQe51fAErQbjinVV8Cmj3jXNMNXwDhr1SBAsVfAzEYyakufV8BgIo+zVo1XwPL96/xhe1fAhtlIRm1pV8AataWPeFdXwKyQAtmDRVfAQGxfIo8zV8DSR7xrmiFXwGYjGbWlD1fA+v51/rD9VsCM2tJHvOtWwCC2L5HH2VbAspGM2tLHVsBGbekj3rVWwNpIRm3po1bAbCSjtvSRVsAAAAAAAIBWwA==",
          "dtype": "f8"
         },
         "y": {
          "bdata": "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",
          "dtype": "f8"
         }
        },
        {
         "marker": {
          "color": "crimson",
          "size": 10,
          "symbol": "x"
         },
         "mode": "markers",
         "name": "Raíces",
         "type": "scatter",
         "x": [
          -152,
          -136,
          -126
         ],
         "y": [
          0,
          0,
          0
         ]
        }
       ],
       "layout": {
        "shapes": [
         {
          "line": {
           "color": "gray",
           "dash": "dash"
          },
          "type": "line",
          "x0": -230,
          "x1": -90,
          "y0": 0,
          "y1": 0
         }
        ],
        "template": {
         "data": {
          "bar": [
           {
            "error_x": {
             "color": "#f2f5fa"
            },
            "error_y": {
             "color": "#f2f5fa"
            },
            "marker": {
             "line": {
              "color": "rgb(17,17,17)",
              "width": 0.5
             },
             "pattern": {
              "fillmode": "overlay",
              "size": 10,
              "solidity": 0.2
             }
            },
            "type": "bar"
           }
          ],
          "barpolar": [
           {
            "marker": {
             "line": {
              "color": "rgb(17,17,17)",
              "width": 0.5
             },
             "pattern": {
              "fillmode": "overlay",
              "size": 10,
              "solidity": 0.2
             }
            },
            "type": "barpolar"
           }
          ],
          "carpet": [
           {
            "aaxis": {
             "endlinecolor": "#A2B1C6",
             "gridcolor": "#506784",
             "linecolor": "#506784",
             "minorgridcolor": "#506784",
             "startlinecolor": "#A2B1C6"
            },
            "baxis": {
             "endlinecolor": "#A2B1C6",
             "gridcolor": "#506784",
             "linecolor": "#506784",
             "minorgridcolor": "#506784",
             "startlinecolor": "#A2B1C6"
            },
            "type": "carpet"
           }
          ],
          "choropleth": [
           {
            "colorbar": {
             "outlinewidth": 0,
             "ticks": ""
            },
            "type": "choropleth"
           }
          ],
          "contour": [
           {
            "colorbar": {
             "outlinewidth": 0,
             "ticks": ""
            },
            "colorscale": [
             [
              0,
              "#0d0887"
             ],
             [
              0.1111111111111111,
              "#46039f"
             ],
             [
              0.2222222222222222,
              "#7201a8"
             ],
             [
              0.3333333333333333,
              "#9c179e"
             ],
             [
              0.4444444444444444,
              "#bd3786"
             ],
             [
              0.5555555555555556,
              "#d8576b"
             ],
             [
              0.6666666666666666,
              "#ed7953"
             ],
             [
              0.7777777777777778,
              "#fb9f3a"
             ],
             [
              0.8888888888888888,
              "#fdca26"
             ],
             [
              1,
              "#f0f921"
             ]
            ],
            "type": "contour"
           }
          ],
          "contourcarpet": [
           {
            "colorbar": {
             "outlinewidth": 0,
             "ticks": ""
            },
            "type": "contourcarpet"
           }
          ],
          "heatmap": [
           {
            "colorbar": {
             "outlinewidth": 0,
             "ticks": ""
            },
            "colorscale": [
             [
              0,
              "#0d0887"
             ],
             [
              0.1111111111111111,
              "#46039f"
             ],
             [
              0.2222222222222222,
              "#7201a8"
             ],
             [
              0.3333333333333333,
              "#9c179e"
             ],
             [
              0.4444444444444444,
              "#bd3786"
             ],
             [
              0.5555555555555556,
              "#d8576b"
             ],
             [
              0.6666666666666666,
              "#ed7953"
             ],
             [
              0.7777777777777778,
              "#fb9f3a"
             ],
             [
              0.8888888888888888,
              "#fdca26"
             ],
             [
              1,
              "#f0f921"
             ]
            ],
            "type": "heatmap"
           }
          ],
          "histogram": [
           {
            "marker": {
             "pattern": {
              "fillmode": "overlay",
              "size": 10,
              "solidity": 0.2
             }
            },
            "type": "histogram"
           }
          ],
          "histogram2d": [
           {
            "colorbar": {
             "outlinewidth": 0,
             "ticks": ""
            },
            "colorscale": [
             [
              0,
              "#0d0887"
             ],
             [
              0.1111111111111111,
              "#46039f"
             ],
             [
              0.2222222222222222,
              "#7201a8"
             ],
             [
              0.3333333333333333,
              "#9c179e"
             ],
             [
              0.4444444444444444,
              "#bd3786"
             ],
             [
              0.5555555555555556,
              "#d8576b"
             ],
             [
              0.6666666666666666,
              "#ed7953"
             ],
             [
              0.7777777777777778,
              "#fb9f3a"
             ],
             [
              0.8888888888888888,
              "#fdca26"
             ],
             [
              1,
              "#f0f921"
             ]
            ],
            "type": "histogram2d"
           }
          ],
          "histogram2dcontour": [
           {
            "colorbar": {
             "outlinewidth": 0,
             "ticks": ""
            },
            "colorscale": [
             [
              0,
              "#0d0887"
             ],
             [
              0.1111111111111111,
              "#46039f"
             ],
             [
              0.2222222222222222,
              "#7201a8"
             ],
             [
              0.3333333333333333,
              "#9c179e"
             ],
             [
              0.4444444444444444,
              "#bd3786"
             ],
             [
              0.5555555555555556,
              "#d8576b"
             ],
             [
              0.6666666666666666,
              "#ed7953"
             ],
             [
              0.7777777777777778,
              "#fb9f3a"
             ],
             [
              0.8888888888888888,
              "#fdca26"
             ],
             [
              1,
              "#f0f921"
             ]
            ],
            "type": "histogram2dcontour"
           }
          ],
          "mesh3d": [
           {
            "colorbar": {
             "outlinewidth": 0,
             "ticks": ""
            },
            "type": "mesh3d"
           }
          ],
          "parcoords": [
           {
            "line": {
             "colorbar": {
              "outlinewidth": 0,
              "ticks": ""
             }
            },
            "type": "parcoords"
           }
          ],
          "pie": [
           {
            "automargin": true,
            "type": "pie"
           }
          ],
          "scatter": [
           {
            "marker": {
             "line": {
              "color": "#283442"
             }
            },
            "type": "scatter"
           }
          ],
          "scatter3d": [
           {
            "line": {
             "colorbar": {
              "outlinewidth": 0,
              "ticks": ""
             }
            },
            "marker": {
             "colorbar": {
              "outlinewidth": 0,
              "ticks": ""
             }
            },
            "type": "scatter3d"
           }
          ],
          "scattercarpet": [
           {
            "marker": {
             "colorbar": {
              "outlinewidth": 0,
              "ticks": ""
             }
            },
            "type": "scattercarpet"
           }
          ],
          "scattergeo": [
           {
            "marker": {
             "colorbar": {
              "outlinewidth": 0,
              "ticks": ""
             }
            },
            "type": "scattergeo"
           }
          ],
          "scattergl": [
           {
            "marker": {
             "line": {
              "color": "#283442"
             }
            },
            "type": "scattergl"
           }
          ],
          "scattermap": [
           {
            "marker": {
             "colorbar": {
              "outlinewidth": 0,
              "ticks": ""
             }
            },
            "type": "scattermap"
           }
          ],
          "scattermapbox": [
           {
            "marker": {
             "colorbar": {
              "outlinewidth": 0,
              "ticks": ""
             }
            },
            "type": "scattermapbox"
           }
          ],
          "scatterpolar": [
           {
            "marker": {
             "colorbar": {
              "outlinewidth": 0,
              "ticks": ""
             }
            },
            "type": "scatterpolar"
           }
          ],
          "scatterpolargl": [
           {
            "marker": {
             "colorbar": {
              "outlinewidth": 0,
              "ticks": ""
             }
            },
            "type": "scatterpolargl"
           }
          ],
          "scatterternary": [
           {
            "marker": {
             "colorbar": {
              "outlinewidth": 0,
              "ticks": ""
             }
            },
            "type": "scatterternary"
           }
          ],
          "surface": [
           {
            "colorbar": {
             "outlinewidth": 0,
             "ticks": ""
            },
            "colorscale": [
             [
              0,
              "#0d0887"
             ],
             [
              0.1111111111111111,
              "#46039f"
             ],
             [
              0.2222222222222222,
              "#7201a8"
             ],
             [
              0.3333333333333333,
              "#9c179e"
             ],
             [
              0.4444444444444444,
              "#bd3786"
             ],
             [
              0.5555555555555556,
              "#d8576b"
             ],
             [
              0.6666666666666666,
              "#ed7953"
             ],
             [
              0.7777777777777778,
              "#fb9f3a"
             ],
             [
              0.8888888888888888,
              "#fdca26"
             ],
             [
              1,
              "#f0f921"
             ]
            ],
            "type": "surface"
           }
          ],
          "table": [
           {
            "cells": {
             "fill": {
              "color": "#506784"
             },
             "line": {
              "color": "rgb(17,17,17)"
             }
            },
            "header": {
             "fill": {
              "color": "#2a3f5f"
             },
             "line": {
              "color": "rgb(17,17,17)"
             }
            },
            "type": "table"
           }
          ]
         },
         "layout": {
          "annotationdefaults": {
           "arrowcolor": "#f2f5fa",
           "arrowhead": 0,
           "arrowwidth": 1
          },
          "autotypenumbers": "strict",
          "coloraxis": {
           "colorbar": {
            "outlinewidth": 0,
            "ticks": ""
           }
          },
          "colorscale": {
           "diverging": [
            [
             0,
             "#8e0152"
            ],
            [
             0.1,
             "#c51b7d"
            ],
            [
             0.2,
             "#de77ae"
            ],
            [
             0.3,
             "#f1b6da"
            ],
            [
             0.4,
             "#fde0ef"
            ],
            [
             0.5,
             "#f7f7f7"
            ],
            [
             0.6,
             "#e6f5d0"
            ],
            [
             0.7,
             "#b8e186"
            ],
            [
             0.8,
             "#7fbc41"
            ],
            [
             0.9,
             "#4d9221"
            ],
            [
             1,
             "#276419"
            ]
           ],
           "sequential": [
            [
             0,
             "#0d0887"
            ],
            [
             0.1111111111111111,
             "#46039f"
            ],
            [
             0.2222222222222222,
             "#7201a8"
            ],
            [
             0.3333333333333333,
             "#9c179e"
            ],
            [
             0.4444444444444444,
             "#bd3786"
            ],
            [
             0.5555555555555556,
             "#d8576b"
            ],
            [
             0.6666666666666666,
             "#ed7953"
            ],
            [
             0.7777777777777778,
             "#fb9f3a"
            ],
            [
             0.8888888888888888,
             "#fdca26"
            ],
            [
             1,
             "#f0f921"
            ]
           ],
           "sequentialminus": [
            [
             0,
             "#0d0887"
            ],
            [
             0.1111111111111111,
             "#46039f"
            ],
            [
             0.2222222222222222,
             "#7201a8"
            ],
            [
             0.3333333333333333,
             "#9c179e"
            ],
            [
             0.4444444444444444,
             "#bd3786"
            ],
            [
             0.5555555555555556,
             "#d8576b"
            ],
            [
             0.6666666666666666,
             "#ed7953"
            ],
            [
             0.7777777777777778,
             "#fb9f3a"
            ],
            [
             0.8888888888888888,
             "#fdca26"
            ],
            [
             1,
             "#f0f921"
            ]
           ]
          },
          "colorway": [
           "#636efa",
           "#EF553B",
           "#00cc96",
           "#ab63fa",
           "#FFA15A",
           "#19d3f3",
           "#FF6692",
           "#B6E880",
           "#FF97FF",
           "#FECB52"
          ],
          "font": {
           "color": "#f2f5fa"
          },
          "geo": {
           "bgcolor": "rgb(17,17,17)",
           "lakecolor": "rgb(17,17,17)",
           "landcolor": "rgb(17,17,17)",
           "showlakes": true,
           "showland": true,
           "subunitcolor": "#506784"
          },
          "hoverlabel": {
           "align": "left"
          },
          "hovermode": "closest",
          "mapbox": {
           "style": "dark"
          },
          "paper_bgcolor": "rgb(17,17,17)",
          "plot_bgcolor": "rgb(17,17,17)",
          "polar": {
           "angularaxis": {
            "gridcolor": "#506784",
            "linecolor": "#506784",
            "ticks": ""
           },
           "bgcolor": "rgb(17,17,17)",
           "radialaxis": {
            "gridcolor": "#506784",
            "linecolor": "#506784",
            "ticks": ""
           }
          },
          "scene": {
           "xaxis": {
            "backgroundcolor": "rgb(17,17,17)",
            "gridcolor": "#506784",
            "gridwidth": 2,
            "linecolor": "#506784",
            "showbackground": true,
            "ticks": "",
            "zerolinecolor": "#C8D4E3"
           },
           "yaxis": {
            "backgroundcolor": "rgb(17,17,17)",
            "gridcolor": "#506784",
            "gridwidth": 2,
            "linecolor": "#506784",
            "showbackground": true,
            "ticks": "",
            "zerolinecolor": "#C8D4E3"
           },
           "zaxis": {
            "backgroundcolor": "rgb(17,17,17)",
            "gridcolor": "#506784",
            "gridwidth": 2,
            "linecolor": "#506784",
            "showbackground": true,
            "ticks": "",
            "zerolinecolor": "#C8D4E3"
           }
          },
          "shapedefaults": {
           "line": {
            "color": "#f2f5fa"
           }
          },
          "sliderdefaults": {
           "bgcolor": "#C8D4E3",
           "bordercolor": "rgb(17,17,17)",
           "borderwidth": 1,
           "tickwidth": 0
          },
          "ternary": {
           "aaxis": {
            "gridcolor": "#506784",
            "linecolor": "#506784",
            "ticks": ""
           },
           "baxis": {
            "gridcolor": "#506784",
            "linecolor": "#506784",
            "ticks": ""
           },
           "bgcolor": "rgb(17,17,17)",
           "caxis": {
            "gridcolor": "#506784",
            "linecolor": "#506784",
            "ticks": ""
           }
          },
          "title": {
           "x": 0.05
          },
          "updatemenudefaults": {
           "bgcolor": "#506784",
           "borderwidth": 0
          },
          "xaxis": {
           "automargin": true,
           "gridcolor": "#283442",
           "linecolor": "#506784",
           "ticks": "",
           "title": {
            "standoff": 15
           },
           "zerolinecolor": "#283442",
           "zerolinewidth": 2
          },
          "yaxis": {
           "automargin": true,
           "gridcolor": "#283442",
           "linecolor": "#506784",
           "ticks": "",
           "title": {
            "standoff": 15
           },
           "zerolinecolor": "#283442",
           "zerolinewidth": 2
          }
         }
        },
        "title": {
         "text": "Raíces del Polinomio de Grado 4"
        },
        "xaxis": {
         "title": {
          "text": "x"
         }
        },
        "yaxis": {
         "title": {
          "text": "P(x)"
         }
        }
       }
      }
     },
     "metadata": {},
     "output_type": "display_data"
    }
   ],
   "source": [
    "x_vals = np.linspace(-230, -90, 500)\n",
    "y_vals = f(x_vals)\n",
    "\n",
    "raices = [-152, -136, -126]\n",
    "y_raices = [0] * len(raices) \n",
    "\n",
    "fig = go.Figure()\n",
    "\n",
    "fig.add_trace(go.Scatter(\n",
    "    x=x_vals, \n",
    "    y=y_vals, \n",
    "    mode='lines', \n",
    "    name='Polinomio P(x)',\n",
    "    line=dict(color='royalblue', width=2)\n",
    "))\n",
    "\n",
    "fig.add_trace(go.Scatter(\n",
    "    x=raices, \n",
    "    y=y_raices, \n",
    "    mode='markers', \n",
    "    name='Raíces',\n",
    "    marker=dict(color='crimson', size=10, symbol='x')\n",
    "))\n",
    "\n",
    "fig.update_layout(\n",
    "    title='Raíces del Polinomio de Grado 4',\n",
    "    xaxis_title='x',\n",
    "    yaxis_title='P(x)',\n",
    "    template='plotly_dark',\n",
    "    shapes=[dict(type='line', x0=min(x_vals), y0=0, x1=max(x_vals), y1=0, line=dict(color='gray', dash='dash'))]\n",
    ")\n",
    "\n",
    "fig.show()"
   ]
  },
  {
   "cell_type": "markdown",
   "id": "6b8143b3",
   "metadata": {},
   "source": [
    "2. Reducimos a: $f(x) = \\frac{x+3}{2}^2 - 2 = 0$"
   ]
  },
  {
   "cell_type": "code",
   "execution_count": 10,
   "id": "cdb55595",
   "metadata": {},
   "outputs": [
    {
     "name": "stdout",
     "output_type": "stream",
     "text": [
      "Puntos de intersección con y = -2: [np.float64(-0.17157287525380957), np.float64(-5.82842712474619)]\n"
     ]
    }
   ],
   "source": [
    "def f(x):\n",
    "    return ((x + 3) / 2)**2 - 2\n",
    "\n",
    "def fprime(x):\n",
    "    return (x + 3) / 2\n",
    "\n",
    "x0 = [0, -6]\n",
    "\n",
    "root = [newton(f, x0, fprime=fprime) for x0 in x0]\n",
    "print(f\"Puntos de intersección con y = -2: {root}\")"
   ]
  },
  {
   "cell_type": "code",
   "execution_count": 11,
   "id": "cb3a8ddc",
   "metadata": {},
   "outputs": [
    {
     "data": {
      "application/vnd.plotly.v1+json": {
       "config": {
        "plotlyServerURL": "https://plot.ly"
       },
       "data": [
        {
         "line": {
          "color": "cyan",
          "width": 2
         },
         "mode": "lines",
         "name": "Curva",
         "type": "scatter",
         "x": {
          "bdata": "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",
          "dtype": "f8"
         },
         "y": {
          "bdata": "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",
          "dtype": "f8"
         }
        },
        {
         "line": {
          "color": "cyan",
          "width": 2
         },
         "mode": "lines",
         "showlegend": false,
         "type": "scatter",
         "x": {
          "bdata": "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",
          "dtype": "f8"
         },
         "y": {
          "bdata": "/O5jaTPVGsCJgVNGWboawE2PPet8nxrArgFkUZ6EGsD1wOxxvWkawGgf4UXaThrAn0AtxvQzGsDqfJ/rDBkawKrA564i/hnAjueWCDbjGcB9Ex7xRsgZwCX/zWBVrRnA6UvWT2GSGcAsy0S2ancZwLvCBIxxXBnASSzeyHVBGcCq73RkdyYZwNAXSFZ2CxnARQKxlXLwGMAAieIZbNUYwE8m6NliuhjAzxKlzFafGMAQXdPoR4QYwN/6AiU2aRjA0NOYdyFOGMD2xM3WCTMYwHmdrTjvFxjA2xMWk9H8F8CXs7XbsOEXwO3CCgiNxhfAjSBiDWarF8DfGNbgO5AXwIwyTXcOdRfAFvJ4xd1ZF8AVlNS/qT4XwN29o1pyIxfAFCTxiTcIF8AJJ41B+ewWwENkDHW30RbACT3GF3K2FsBYUdMcKZsWwP/uC3fcfxbAVnQGGYxkFsA8phX1N0kWwKL4Rv3fLRbAfslgI4QSFsBTjeBYJPcVwPfs+I7A2xXA29OPtljAFcBsbjzA7KQVwM8XRZx8iRXAXzadOghuFcA5BuOKj1IVwCxRXXwSNxXAUBP5/ZAbFcB7C0f+CgAVwLU2eWuA5BTA+DVgM/HIFMA7nWhDXa0UwOwqmIjEkRTAzeaK7yZ2FMBGJ3BkhFoUwBF8B9PcPhTAJH2dJjAjFMCafAhKfgcUwIQapSfH6xPAOrlSqQrQE8Dd0G+4SLQTwIYg1j2BmBPAzbvWIbR8E8Dt8jVM4WATwPATJ6QIRRPAEQNIECopE8CWqJx2RQ0TwCcyirxa8RLAlSXSxmnVEsDdQo15crkSwE8zJrh0nRLAPANUZXCBEsDgYxRjZWUSwJiypZJTSRLA5cKA1DotEsD8Z1IIGxESwPC69Az09BHA/xlowMXYEcCh3cv/j7wRwIu/VqdSoBHAse9Okg2EEcAt0wGbwGcRwJZou5prSxHAEU29aQ4vEcAsXTXfqBIRwCTsM9E69hDAIoyhFMTZEMBGYTR9RL0QwFP5ZN27oBDAFqFiBiqEEMB5MAfIjmcQwIpFyvDpShDATeazTTsuEMCigE6qghEQwBJ+MKF/6Q/Ak1DnEeWvD8DB/i40NXYPwOSw+5FvPA/ALq2ksZMCD8AkC78VocgOwPqC9jyXjg7AITvkoXVUDsAPdOO6OxoOwOvv4/no3w3AK/E5zHylDcCHqGua9moNwJLn+8dVMA3A+ekxs5n1DMDXA960wboMwJn/GiDNfwzAzPELQrtEDMBxRJZhiwkMwCu2F788zgvAVQQYlM6SC8DL8PUSQFcLwG1Nj2aQGwvA/q/jsb7fCsADabEPyqMKwDdPDJKxZwrAYuftQXQrCsBVZb4eEe8JwOv21R2HsgnAnLz1KdV1CcBLxLci+jgJwJZK9dv0+wjA0nQiHcS+CMBzoZ6gZoEIwAlW+BLbQwjAp7gjEiAGCMBHZqIsNMgHwCpYm+AVigfAb2bhmsNLB8A3zua1Ow0HwJ/0m3h8zgbAB203FYSPBsCHD+WnUFAGwD2rWTXgEAbASZZIqTDRBcADCbjUP5EFwM3RMGwLUQXAS4HFBZEQBcC3sOwWzs8EwNdzKfK/jgTAQmF8xGNNBMCE25aStgsEwBZnyTW1yQPAa9akWFyHA8Af6ERzqEQDwBeTOceVAQPAyJ8CWyC+AsAJSA/1Q3oCwItZMRb8NQLAPa9w80PxAcCTrShvFqwBwNWnVRFuZgHASo3z/kQgAcD/yEnwlNkAwB+j+SVXkgDAJmmcXIRKAMC2y7S+FAIAwLGPVan/cf+/ze/05Hje/r+cCFdFgUn+vyAcHxwDs/2/Dt9Qv+Ya/b+0XeNHEoH8v8nZMEVp5fu/S+/dYsxH+7/YMjD+GKj6v0Hr9qYoBvq/2joMh9Bh+b84Nvap4Lr4v1uBJRwjEfi/Fu991lpk978ekOJmQrT2v2oG3kCKAPa/X7BWmdZI9b89NyykvIz0v0ECXfi+y/O//xwOw0gF87/e3cxEpzjyv11aaMoAZfG/yYi11EeJ8L8VmyiFUEjvv5odllzVZ+2/k2IX5Y1s67/Wa1rLL1DpvxrpCoGkCee/hpjPsuyK5L8ibkc2Y7zhvxGHjtqH39y/jV0sXV1a1L8AAAAAAAAAgAAAAAAAAACAEv089DpP1r8oXuJNDqvfv5n4e6fvduO/enicPPeO5r/Wa1rLL1Dpv8dovqNs1Ou/1MAxj/Qq7r9//81j2C7wv5ke4Am+OfG/3t3MRKc48r8tKMEhci3zv/9j0GCQGfS/RAO1uyb+9L/b1eZ2Idz1vx6Q4mZCtPa/6fUbyiqH97+P3yxjYlX4v3+MCLVcH/m/f6sf8nzl+b/YMjD+GKj6vxqJmcN7Z/u/sFceCecj/L8SC87nlN38v0k45ve4lP2/nAhXRYFJ/r8h60UYF/z+v8ef1pqfrP+/+4ekMZ4tAMANUuzzBYQAwP/ISfCU2QDAoNM7zVcuAcDjoDgfWoIBwPzQKIem1QHAbHi0zEYoAsAJSA/1Q3oCwND/0FamywLAuttNq3UcA8CkWc4duWwDwHln9Vh3vAPAhNuWkrYLBMAMYjWWfFoEwO1KVs7OqATAm3DSTLL2BMCggUXSK0QFwAMJuNQ/kQXAh3achfLdBcC9+DPXRyoGwFgXbYFDdgbAx4xLBunBBsA3zua1Ow0HwDnwCrI+WAfAqReG8fSiB8BDXytDYe0HwBQBk1CGNwjAc6GeoGaBCMAcyMeZBMsIwGTfPYRiFAnArnTYi4JdCcBv7OHBZqYJwFVlvh4R7wnAkR1yg4M3CsAbUgq7v38KwKs/63vHxwrAE6YFaZwPC8DL8PUSQFcLwAzwDvmzngvAIN1RivnlC8BWOVUmEi0MwD7wGx7/cwzA1wPetMG6DMCG6sMgWwENwDqrlYvMRw3A4qteExeODcBgEAfLO9QNwA9047o7Gg7AlrY74RdgDsDFhMky0aUOwJk3L5to6w7AhpZn/d4wD8DB/i40NXYPwBNmZhJsuw/APlO4MUIAEMB0O8V1vyIQwMe2DjQuRRDAeTAHyI5nEMAGuwOK4YkQwCkSX88mrBDAOrma6l7OEMDvVH4rivAQwCxdNd+oEhHAikFrULs0EcAjGWbHwVYRwJf0H4q8eBHAmOde3KuaEcCh3cv/j7wRwFlMCDRp3hHAstTCtjcAEsDC4srD+yESwCZbI5W1QxLA4GMUY2VlEsClVTxkC4cSwKjhn82nqBLARne50jrKEsAf9IelxOsSwJWonHZFDRPA4Lkodb0uE8CT6gnPLFATwJ7R1rCTcRPAfofqRfKSE8Dd0G+4SLQTwFjNazGX1RPAvTDI2N32E8DaDF3VHBgUwGMx+kxUORTARSdwZIRaFMBmzJg/rXsUwIKUXwHPnBTAp3PJy+m9FMBYdvy//d4UwHsLR/4KABXAswMnphEhFcCjSVDWEUIVwI9Ws6wLYxXAcGaDRv+DFcBrbjzA7KQVwJvYqDXUxRXAvwfnwbXmFcBtpW5/kQcWwBa9FYhnKBbAPKYV9TdJFsD2vw/fAmoWwMr/EV7IihbA1lWbiYirFsAu6J94Q8wWwAgnjUH57BbAl7tN+qkNF8D4Uk24VS4XwOJGfJD8ThfAViVTl55vF8DfGNbgO5AXwIkymIDUsBfA4Za+iWjRF8AhjwMP+PEXwK1/uSKDEhjA9cTN1gkzGMC7d8s8jFMYwLwZ3mUKdBjArivUYoSUGMBgrSFE+rQYwACJ4hls1RjAJ+rc89n1GMCLgYPhQxYZwB629/GpNhnAJMQLNAxXGcAry0S2ancZwFDL3IbFlxnAlZLEsxy4GcDPmqVKcNgZwMDY41jA+BnA6nyf6wwZGsCpprYPVjkawPEJx9GbWRrAYIgvPt55GsDkvRFhHZoawIiBU0ZZuhrAzlqg+ZHaGsDl62qGx/oawEdR7vf5GhvA9XYvWSk7G8DKY/60VVsbwDN79xV/exvAlbWEhqWbG8DFz94QybsbwNBxDr/p2xvAaE3tmgf8G8A8NCeuIhwcwG8mOwI7PBzAm1l8oFBcHMBhOBOSY3wcwABb/t9znBzAEXkTk4G8HMCQVAC0jNwcwJ2eS0uV/BzA59VVYZscHcAwH1r+njwdwPkXbyqgXB3AgqOH7Z58HcBrsnNPm5wdwPkE4VeVvB3ARuhbDo3cHcCE7k96gvwdwF6iCKN1HB7AxDWyj2Y8HsApLFpHVVwewFwA8NBBfB7ANcZFMyycHsALyBB1FLwewD0g6pz62x7A2k5Psd77HsA=",
          "dtype": "f8"
         }
        },
        {
         "line": {
          "color": "magenta",
          "dash": "dash"
         },
         "mode": "lines",
         "name": "Recta y = -2",
         "type": "scatter",
         "x": [
          -10,
          5
         ],
         "y": [
          -2,
          -2
         ]
        },
        {
         "marker": {
          "color": "yellow",
          "size": 10,
          "symbol": "star"
         },
         "mode": "markers",
         "name": "Intersecciones",
         "type": "scatter",
         "x": [
          -5.828427,
          -0.171572
         ],
         "y": [
          -2,
          -2
         ]
        }
       ],
       "layout": {
        "template": {
         "data": {
          "bar": [
           {
            "error_x": {
             "color": "#f2f5fa"
            },
            "error_y": {
             "color": "#f2f5fa"
            },
            "marker": {
             "line": {
              "color": "rgb(17,17,17)",
              "width": 0.5
             },
             "pattern": {
              "fillmode": "overlay",
              "size": 10,
              "solidity": 0.2
             }
            },
            "type": "bar"
           }
          ],
          "barpolar": [
           {
            "marker": {
             "line": {
              "color": "rgb(17,17,17)",
              "width": 0.5
             },
             "pattern": {
              "fillmode": "overlay",
              "size": 10,
              "solidity": 0.2
             }
            },
            "type": "barpolar"
           }
          ],
          "carpet": [
           {
            "aaxis": {
             "endlinecolor": "#A2B1C6",
             "gridcolor": "#506784",
             "linecolor": "#506784",
             "minorgridcolor": "#506784",
             "startlinecolor": "#A2B1C6"
            },
            "baxis": {
             "endlinecolor": "#A2B1C6",
             "gridcolor": "#506784",
             "linecolor": "#506784",
             "minorgridcolor": "#506784",
             "startlinecolor": "#A2B1C6"
            },
            "type": "carpet"
           }
          ],
          "choropleth": [
           {
            "colorbar": {
             "outlinewidth": 0,
             "ticks": ""
            },
            "type": "choropleth"
           }
          ],
          "contour": [
           {
            "colorbar": {
             "outlinewidth": 0,
             "ticks": ""
            },
            "colorscale": [
             [
              0,
              "#0d0887"
             ],
             [
              0.1111111111111111,
              "#46039f"
             ],
             [
              0.2222222222222222,
              "#7201a8"
             ],
             [
              0.3333333333333333,
              "#9c179e"
             ],
             [
              0.4444444444444444,
              "#bd3786"
             ],
             [
              0.5555555555555556,
              "#d8576b"
             ],
             [
              0.6666666666666666,
              "#ed7953"
             ],
             [
              0.7777777777777778,
              "#fb9f3a"
             ],
             [
              0.8888888888888888,
              "#fdca26"
             ],
             [
              1,
              "#f0f921"
             ]
            ],
            "type": "contour"
           }
          ],
          "contourcarpet": [
           {
            "colorbar": {
             "outlinewidth": 0,
             "ticks": ""
            },
            "type": "contourcarpet"
           }
          ],
          "heatmap": [
           {
            "colorbar": {
             "outlinewidth": 0,
             "ticks": ""
            },
            "colorscale": [
             [
              0,
              "#0d0887"
             ],
             [
              0.1111111111111111,
              "#46039f"
             ],
             [
              0.2222222222222222,
              "#7201a8"
             ],
             [
              0.3333333333333333,
              "#9c179e"
             ],
             [
              0.4444444444444444,
              "#bd3786"
             ],
             [
              0.5555555555555556,
              "#d8576b"
             ],
             [
              0.6666666666666666,
              "#ed7953"
             ],
             [
              0.7777777777777778,
              "#fb9f3a"
             ],
             [
              0.8888888888888888,
              "#fdca26"
             ],
             [
              1,
              "#f0f921"
             ]
            ],
            "type": "heatmap"
           }
          ],
          "histogram": [
           {
            "marker": {
             "pattern": {
              "fillmode": "overlay",
              "size": 10,
              "solidity": 0.2
             }
            },
            "type": "histogram"
           }
          ],
          "histogram2d": [
           {
            "colorbar": {
             "outlinewidth": 0,
             "ticks": ""
            },
            "colorscale": [
             [
              0,
              "#0d0887"
             ],
             [
              0.1111111111111111,
              "#46039f"
             ],
             [
              0.2222222222222222,
              "#7201a8"
             ],
             [
              0.3333333333333333,
              "#9c179e"
             ],
             [
              0.4444444444444444,
              "#bd3786"
             ],
             [
              0.5555555555555556,
              "#d8576b"
             ],
             [
              0.6666666666666666,
              "#ed7953"
             ],
             [
              0.7777777777777778,
              "#fb9f3a"
             ],
             [
              0.8888888888888888,
              "#fdca26"
             ],
             [
              1,
              "#f0f921"
             ]
            ],
            "type": "histogram2d"
           }
          ],
          "histogram2dcontour": [
           {
            "colorbar": {
             "outlinewidth": 0,
             "ticks": ""
            },
            "colorscale": [
             [
              0,
              "#0d0887"
             ],
             [
              0.1111111111111111,
              "#46039f"
             ],
             [
              0.2222222222222222,
              "#7201a8"
             ],
             [
              0.3333333333333333,
              "#9c179e"
             ],
             [
              0.4444444444444444,
              "#bd3786"
             ],
             [
              0.5555555555555556,
              "#d8576b"
             ],
             [
              0.6666666666666666,
              "#ed7953"
             ],
             [
              0.7777777777777778,
              "#fb9f3a"
             ],
             [
              0.8888888888888888,
              "#fdca26"
             ],
             [
              1,
              "#f0f921"
             ]
            ],
            "type": "histogram2dcontour"
           }
          ],
          "mesh3d": [
           {
            "colorbar": {
             "outlinewidth": 0,
             "ticks": ""
            },
            "type": "mesh3d"
           }
          ],
          "parcoords": [
           {
            "line": {
             "colorbar": {
              "outlinewidth": 0,
              "ticks": ""
             }
            },
            "type": "parcoords"
           }
          ],
          "pie": [
           {
            "automargin": true,
            "type": "pie"
           }
          ],
          "scatter": [
           {
            "marker": {
             "line": {
              "color": "#283442"
             }
            },
            "type": "scatter"
           }
          ],
          "scatter3d": [
           {
            "line": {
             "colorbar": {
              "outlinewidth": 0,
              "ticks": ""
             }
            },
            "marker": {
             "colorbar": {
              "outlinewidth": 0,
              "ticks": ""
             }
            },
            "type": "scatter3d"
           }
          ],
          "scattercarpet": [
           {
            "marker": {
             "colorbar": {
              "outlinewidth": 0,
              "ticks": ""
             }
            },
            "type": "scattercarpet"
           }
          ],
          "scattergeo": [
           {
            "marker": {
             "colorbar": {
              "outlinewidth": 0,
              "ticks": ""
             }
            },
            "type": "scattergeo"
           }
          ],
          "scattergl": [
           {
            "marker": {
             "line": {
              "color": "#283442"
             }
            },
            "type": "scattergl"
           }
          ],
          "scattermap": [
           {
            "marker": {
             "colorbar": {
              "outlinewidth": 0,
              "ticks": ""
             }
            },
            "type": "scattermap"
           }
          ],
          "scattermapbox": [
           {
            "marker": {
             "colorbar": {
              "outlinewidth": 0,
              "ticks": ""
             }
            },
            "type": "scattermapbox"
           }
          ],
          "scatterpolar": [
           {
            "marker": {
             "colorbar": {
              "outlinewidth": 0,
              "ticks": ""
             }
            },
            "type": "scatterpolar"
           }
          ],
          "scatterpolargl": [
           {
            "marker": {
             "colorbar": {
              "outlinewidth": 0,
              "ticks": ""
             }
            },
            "type": "scatterpolargl"
           }
          ],
          "scatterternary": [
           {
            "marker": {
             "colorbar": {
              "outlinewidth": 0,
              "ticks": ""
             }
            },
            "type": "scatterternary"
           }
          ],
          "surface": [
           {
            "colorbar": {
             "outlinewidth": 0,
             "ticks": ""
            },
            "colorscale": [
             [
              0,
              "#0d0887"
             ],
             [
              0.1111111111111111,
              "#46039f"
             ],
             [
              0.2222222222222222,
              "#7201a8"
             ],
             [
              0.3333333333333333,
              "#9c179e"
             ],
             [
              0.4444444444444444,
              "#bd3786"
             ],
             [
              0.5555555555555556,
              "#d8576b"
             ],
             [
              0.6666666666666666,
              "#ed7953"
             ],
             [
              0.7777777777777778,
              "#fb9f3a"
             ],
             [
              0.8888888888888888,
              "#fdca26"
             ],
             [
              1,
              "#f0f921"
             ]
            ],
            "type": "surface"
           }
          ],
          "table": [
           {
            "cells": {
             "fill": {
              "color": "#506784"
             },
             "line": {
              "color": "rgb(17,17,17)"
             }
            },
            "header": {
             "fill": {
              "color": "#2a3f5f"
             },
             "line": {
              "color": "rgb(17,17,17)"
             }
            },
            "type": "table"
           }
          ]
         },
         "layout": {
          "annotationdefaults": {
           "arrowcolor": "#f2f5fa",
           "arrowhead": 0,
           "arrowwidth": 1
          },
          "autotypenumbers": "strict",
          "coloraxis": {
           "colorbar": {
            "outlinewidth": 0,
            "ticks": ""
           }
          },
          "colorscale": {
           "diverging": [
            [
             0,
             "#8e0152"
            ],
            [
             0.1,
             "#c51b7d"
            ],
            [
             0.2,
             "#de77ae"
            ],
            [
             0.3,
             "#f1b6da"
            ],
            [
             0.4,
             "#fde0ef"
            ],
            [
             0.5,
             "#f7f7f7"
            ],
            [
             0.6,
             "#e6f5d0"
            ],
            [
             0.7,
             "#b8e186"
            ],
            [
             0.8,
             "#7fbc41"
            ],
            [
             0.9,
             "#4d9221"
            ],
            [
             1,
             "#276419"
            ]
           ],
           "sequential": [
            [
             0,
             "#0d0887"
            ],
            [
             0.1111111111111111,
             "#46039f"
            ],
            [
             0.2222222222222222,
             "#7201a8"
            ],
            [
             0.3333333333333333,
             "#9c179e"
            ],
            [
             0.4444444444444444,
             "#bd3786"
            ],
            [
             0.5555555555555556,
             "#d8576b"
            ],
            [
             0.6666666666666666,
             "#ed7953"
            ],
            [
             0.7777777777777778,
             "#fb9f3a"
            ],
            [
             0.8888888888888888,
             "#fdca26"
            ],
            [
             1,
             "#f0f921"
            ]
           ],
           "sequentialminus": [
            [
             0,
             "#0d0887"
            ],
            [
             0.1111111111111111,
             "#46039f"
            ],
            [
             0.2222222222222222,
             "#7201a8"
            ],
            [
             0.3333333333333333,
             "#9c179e"
            ],
            [
             0.4444444444444444,
             "#bd3786"
            ],
            [
             0.5555555555555556,
             "#d8576b"
            ],
            [
             0.6666666666666666,
             "#ed7953"
            ],
            [
             0.7777777777777778,
             "#fb9f3a"
            ],
            [
             0.8888888888888888,
             "#fdca26"
            ],
            [
             1,
             "#f0f921"
            ]
           ]
          },
          "colorway": [
           "#636efa",
           "#EF553B",
           "#00cc96",
           "#ab63fa",
           "#FFA15A",
           "#19d3f3",
           "#FF6692",
           "#B6E880",
           "#FF97FF",
           "#FECB52"
          ],
          "font": {
           "color": "#f2f5fa"
          },
          "geo": {
           "bgcolor": "rgb(17,17,17)",
           "lakecolor": "rgb(17,17,17)",
           "landcolor": "rgb(17,17,17)",
           "showlakes": true,
           "showland": true,
           "subunitcolor": "#506784"
          },
          "hoverlabel": {
           "align": "left"
          },
          "hovermode": "closest",
          "mapbox": {
           "style": "dark"
          },
          "paper_bgcolor": "rgb(17,17,17)",
          "plot_bgcolor": "rgb(17,17,17)",
          "polar": {
           "angularaxis": {
            "gridcolor": "#506784",
            "linecolor": "#506784",
            "ticks": ""
           },
           "bgcolor": "rgb(17,17,17)",
           "radialaxis": {
            "gridcolor": "#506784",
            "linecolor": "#506784",
            "ticks": ""
           }
          },
          "scene": {
           "xaxis": {
            "backgroundcolor": "rgb(17,17,17)",
            "gridcolor": "#506784",
            "gridwidth": 2,
            "linecolor": "#506784",
            "showbackground": true,
            "ticks": "",
            "zerolinecolor": "#C8D4E3"
           },
           "yaxis": {
            "backgroundcolor": "rgb(17,17,17)",
            "gridcolor": "#506784",
            "gridwidth": 2,
            "linecolor": "#506784",
            "showbackground": true,
            "ticks": "",
            "zerolinecolor": "#C8D4E3"
           },
           "zaxis": {
            "backgroundcolor": "rgb(17,17,17)",
            "gridcolor": "#506784",
            "gridwidth": 2,
            "linecolor": "#506784",
            "showbackground": true,
            "ticks": "",
            "zerolinecolor": "#C8D4E3"
           }
          },
          "shapedefaults": {
           "line": {
            "color": "#f2f5fa"
           }
          },
          "sliderdefaults": {
           "bgcolor": "#C8D4E3",
           "bordercolor": "rgb(17,17,17)",
           "borderwidth": 1,
           "tickwidth": 0
          },
          "ternary": {
           "aaxis": {
            "gridcolor": "#506784",
            "linecolor": "#506784",
            "ticks": ""
           },
           "baxis": {
            "gridcolor": "#506784",
            "linecolor": "#506784",
            "ticks": ""
           },
           "bgcolor": "rgb(17,17,17)",
           "caxis": {
            "gridcolor": "#506784",
            "linecolor": "#506784",
            "ticks": ""
           }
          },
          "title": {
           "x": 0.05
          },
          "updatemenudefaults": {
           "bgcolor": "#506784",
           "borderwidth": 0
          },
          "xaxis": {
           "automargin": true,
           "gridcolor": "#283442",
           "linecolor": "#506784",
           "ticks": "",
           "title": {
            "standoff": 15
           },
           "zerolinecolor": "#283442",
           "zerolinewidth": 2
          },
          "yaxis": {
           "automargin": true,
           "gridcolor": "#283442",
           "linecolor": "#506784",
           "ticks": "",
           "title": {
            "standoff": 15
           },
           "zerolinecolor": "#283442",
           "zerolinewidth": 2
          }
         }
        },
        "title": {
         "text": "Intersección de Curva y Recta"
        },
        "xaxis": {
         "title": {
          "text": "x"
         }
        },
        "yaxis": {
         "title": {
          "text": "y"
         }
        }
       }
      }
     },
     "metadata": {},
     "output_type": "display_data"
    }
   ],
   "source": [
    "def rama_superior(x):\n",
    "    return 2 * np.sqrt(np.maximum(0, ((x + 3) / 2)**2 - 1))\n",
    "\n",
    "def rama_inferior(x):\n",
    "    return -2 * np.sqrt(np.maximum(0, ((x + 3) / 2)**2 - 1))\n",
    "\n",
    "x_vals_1 = np.linspace(-10, -5, 200)\n",
    "x_vals_2 = np.linspace(-1, 5, 200)\n",
    "x_total = np.concatenate([x_vals_1, x_vals_2])\n",
    "\n",
    "puntos_x = [-5.828427, -0.171572]\n",
    "puntos_y = [-2, -2] \n",
    "fig = go.Figure()\n",
    "\n",
    "fig.add_trace(go.Scatter(\n",
    "    x=x_total, \n",
    "    y=rama_superior(x_total), \n",
    "    mode='lines', \n",
    "    name='Curva',\n",
    "    line=dict(color='cyan', width=2)\n",
    "))\n",
    "fig.add_trace(go.Scatter(\n",
    "    x=x_total, \n",
    "    y=rama_inferior(x_total), \n",
    "    mode='lines',\n",
    "    showlegend=False, \n",
    "    line=dict(color='cyan', width=2)\n",
    "))\n",
    "\n",
    "fig.add_trace(go.Scatter(\n",
    "    x=[-10, 5], \n",
    "    y=[-2, -2],\n",
    "    mode='lines',\n",
    "    name='Recta y = -2',\n",
    "    line=dict(color='magenta', dash='dash')\n",
    "))\n",
    "\n",
    "fig.add_trace(go.Scatter(\n",
    "    x=puntos_x, \n",
    "    y=puntos_y, \n",
    "    mode='markers', \n",
    "    name='Intersecciones',\n",
    "    marker=dict(color='yellow', size=10, symbol='star')\n",
    "))\n",
    "\n",
    "fig.update_layout(\n",
    "    title='Intersección de Curva y Recta',\n",
    "    xaxis_title='x',\n",
    "    yaxis_title='y',\n",
    "    template='plotly_dark'\n",
    ")\n",
    "\n",
    "fig.show()"
   ]
  },
  {
   "cell_type": "code",
   "execution_count": 16,
   "id": "c2ac22ab",
   "metadata": {},
   "outputs": [
    {
     "name": "stdout",
     "output_type": "stream",
     "text": [
      "El valor de x_T es: 58.61599606618802\n"
     ]
    }
   ],
   "source": [
    "\n",
    "def f(x):\n",
    "    return np.sin(x) / x - 0.015\n",
    "\n",
    "intervalo = [58, 59]\n",
    "\n",
    "x_T = bisect(f, intervalo[0], intervalo[1])\n",
    "\n",
    "print(f\"El valor de x_T es: {x_T}\")"
   ]
  },
  {
   "cell_type": "code",
   "execution_count": 14,
   "id": "8412c052",
   "metadata": {},
   "outputs": [
    {
     "data": {
      "application/vnd.plotly.v1+json": {
       "config": {
        "plotlyServerURL": "https://plot.ly"
       },
       "data": [
        {
         "line": {
          "color": "lightgreen",
          "width": 2
         },
         "mode": "lines",
         "name": "f(x) = sin(x)/x",
         "type": "scatter",
         "x": {
          "bdata": "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",
          "dtype": "f8"
         },
         "y": {
          "bdata": "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",
          "dtype": "f8"
         }
        },
        {
         "line": {
          "color": "orange",
          "dash": "dash",
          "width": 2
         },
         "mode": "lines",
         "name": "y = 0.015",
         "type": "scatter",
         "x": [
          0.1,
          100
         ],
         "y": [
          0.015,
          0.015
         ]
        },
        {
         "marker": {
          "color": "red",
          "size": 10,
          "symbol": "x"
         },
         "mode": "markers",
         "name": "Punto x_T ≈ 63.12",
         "type": "scatter",
         "x": [
          63.1205
         ],
         "y": [
          0.015
         ]
        }
       ],
       "layout": {
        "template": {
         "data": {
          "bar": [
           {
            "error_x": {
             "color": "#f2f5fa"
            },
            "error_y": {
             "color": "#f2f5fa"
            },
            "marker": {
             "line": {
              "color": "rgb(17,17,17)",
              "width": 0.5
             },
             "pattern": {
              "fillmode": "overlay",
              "size": 10,
              "solidity": 0.2
             }
            },
            "type": "bar"
           }
          ],
          "barpolar": [
           {
            "marker": {
             "line": {
              "color": "rgb(17,17,17)",
              "width": 0.5
             },
             "pattern": {
              "fillmode": "overlay",
              "size": 10,
              "solidity": 0.2
             }
            },
            "type": "barpolar"
           }
          ],
          "carpet": [
           {
            "aaxis": {
             "endlinecolor": "#A2B1C6",
             "gridcolor": "#506784",
             "linecolor": "#506784",
             "minorgridcolor": "#506784",
             "startlinecolor": "#A2B1C6"
            },
            "baxis": {
             "endlinecolor": "#A2B1C6",
             "gridcolor": "#506784",
             "linecolor": "#506784",
             "minorgridcolor": "#506784",
             "startlinecolor": "#A2B1C6"
            },
            "type": "carpet"
           }
          ],
          "choropleth": [
           {
            "colorbar": {
             "outlinewidth": 0,
             "ticks": ""
            },
            "type": "choropleth"
           }
          ],
          "contour": [
           {
            "colorbar": {
             "outlinewidth": 0,
             "ticks": ""
            },
            "colorscale": [
             [
              0,
              "#0d0887"
             ],
             [
              0.1111111111111111,
              "#46039f"
             ],
             [
              0.2222222222222222,
              "#7201a8"
             ],
             [
              0.3333333333333333,
              "#9c179e"
             ],
             [
              0.4444444444444444,
              "#bd3786"
             ],
             [
              0.5555555555555556,
              "#d8576b"
             ],
             [
              0.6666666666666666,
              "#ed7953"
             ],
             [
              0.7777777777777778,
              "#fb9f3a"
             ],
             [
              0.8888888888888888,
              "#fdca26"
             ],
             [
              1,
              "#f0f921"
             ]
            ],
            "type": "contour"
           }
          ],
          "contourcarpet": [
           {
            "colorbar": {
             "outlinewidth": 0,
             "ticks": ""
            },
            "type": "contourcarpet"
           }
          ],
          "heatmap": [
           {
            "colorbar": {
             "outlinewidth": 0,
             "ticks": ""
            },
            "colorscale": [
             [
              0,
              "#0d0887"
             ],
             [
              0.1111111111111111,
              "#46039f"
             ],
             [
              0.2222222222222222,
              "#7201a8"
             ],
             [
              0.3333333333333333,
              "#9c179e"
             ],
             [
              0.4444444444444444,
              "#bd3786"
             ],
             [
              0.5555555555555556,
              "#d8576b"
             ],
             [
              0.6666666666666666,
              "#ed7953"
             ],
             [
              0.7777777777777778,
              "#fb9f3a"
             ],
             [
              0.8888888888888888,
              "#fdca26"
             ],
             [
              1,
              "#f0f921"
             ]
            ],
            "type": "heatmap"
           }
          ],
          "histogram": [
           {
            "marker": {
             "pattern": {
              "fillmode": "overlay",
              "size": 10,
              "solidity": 0.2
             }
            },
            "type": "histogram"
           }
          ],
          "histogram2d": [
           {
            "colorbar": {
             "outlinewidth": 0,
             "ticks": ""
            },
            "colorscale": [
             [
              0,
              "#0d0887"
             ],
             [
              0.1111111111111111,
              "#46039f"
             ],
             [
              0.2222222222222222,
              "#7201a8"
             ],
             [
              0.3333333333333333,
              "#9c179e"
             ],
             [
              0.4444444444444444,
              "#bd3786"
             ],
             [
              0.5555555555555556,
              "#d8576b"
             ],
             [
              0.6666666666666666,
              "#ed7953"
             ],
             [
              0.7777777777777778,
              "#fb9f3a"
             ],
             [
              0.8888888888888888,
              "#fdca26"
             ],
             [
              1,
              "#f0f921"
             ]
            ],
            "type": "histogram2d"
           }
          ],
          "histogram2dcontour": [
           {
            "colorbar": {
             "outlinewidth": 0,
             "ticks": ""
            },
            "colorscale": [
             [
              0,
              "#0d0887"
             ],
             [
              0.1111111111111111,
              "#46039f"
             ],
             [
              0.2222222222222222,
              "#7201a8"
             ],
             [
              0.3333333333333333,
              "#9c179e"
             ],
             [
              0.4444444444444444,
              "#bd3786"
             ],
             [
              0.5555555555555556,
              "#d8576b"
             ],
             [
              0.6666666666666666,
              "#ed7953"
             ],
             [
              0.7777777777777778,
              "#fb9f3a"
             ],
             [
              0.8888888888888888,
              "#fdca26"
             ],
             [
              1,
              "#f0f921"
             ]
            ],
            "type": "histogram2dcontour"
           }
          ],
          "mesh3d": [
           {
            "colorbar": {
             "outlinewidth": 0,
             "ticks": ""
            },
            "type": "mesh3d"
           }
          ],
          "parcoords": [
           {
            "line": {
             "colorbar": {
              "outlinewidth": 0,
              "ticks": ""
             }
            },
            "type": "parcoords"
           }
          ],
          "pie": [
           {
            "automargin": true,
            "type": "pie"
           }
          ],
          "scatter": [
           {
            "marker": {
             "line": {
              "color": "#283442"
             }
            },
            "type": "scatter"
           }
          ],
          "scatter3d": [
           {
            "line": {
             "colorbar": {
              "outlinewidth": 0,
              "ticks": ""
             }
            },
            "marker": {
             "colorbar": {
              "outlinewidth": 0,
              "ticks": ""
             }
            },
            "type": "scatter3d"
           }
          ],
          "scattercarpet": [
           {
            "marker": {
             "colorbar": {
              "outlinewidth": 0,
              "ticks": ""
             }
            },
            "type": "scattercarpet"
           }
          ],
          "scattergeo": [
           {
            "marker": {
             "colorbar": {
              "outlinewidth": 0,
              "ticks": ""
             }
            },
            "type": "scattergeo"
           }
          ],
          "scattergl": [
           {
            "marker": {
             "line": {
              "color": "#283442"
             }
            },
            "type": "scattergl"
           }
          ],
          "scattermap": [
           {
            "marker": {
             "colorbar": {
              "outlinewidth": 0,
              "ticks": ""
             }
            },
            "type": "scattermap"
           }
          ],
          "scattermapbox": [
           {
            "marker": {
             "colorbar": {
              "outlinewidth": 0,
              "ticks": ""
             }
            },
            "type": "scattermapbox"
           }
          ],
          "scatterpolar": [
           {
            "marker": {
             "colorbar": {
              "outlinewidth": 0,
              "ticks": ""
             }
            },
            "type": "scatterpolar"
           }
          ],
          "scatterpolargl": [
           {
            "marker": {
             "colorbar": {
              "outlinewidth": 0,
              "ticks": ""
             }
            },
            "type": "scatterpolargl"
           }
          ],
          "scatterternary": [
           {
            "marker": {
             "colorbar": {
              "outlinewidth": 0,
              "ticks": ""
             }
            },
            "type": "scatterternary"
           }
          ],
          "surface": [
           {
            "colorbar": {
             "outlinewidth": 0,
             "ticks": ""
            },
            "colorscale": [
             [
              0,
              "#0d0887"
             ],
             [
              0.1111111111111111,
              "#46039f"
             ],
             [
              0.2222222222222222,
              "#7201a8"
             ],
             [
              0.3333333333333333,
              "#9c179e"
             ],
             [
              0.4444444444444444,
              "#bd3786"
             ],
             [
              0.5555555555555556,
              "#d8576b"
             ],
             [
              0.6666666666666666,
              "#ed7953"
             ],
             [
              0.7777777777777778,
              "#fb9f3a"
             ],
             [
              0.8888888888888888,
              "#fdca26"
             ],
             [
              1,
              "#f0f921"
             ]
            ],
            "type": "surface"
           }
          ],
          "table": [
           {
            "cells": {
             "fill": {
              "color": "#506784"
             },
             "line": {
              "color": "rgb(17,17,17)"
             }
            },
            "header": {
             "fill": {
              "color": "#2a3f5f"
             },
             "line": {
              "color": "rgb(17,17,17)"
             }
            },
            "type": "table"
           }
          ]
         },
         "layout": {
          "annotationdefaults": {
           "arrowcolor": "#f2f5fa",
           "arrowhead": 0,
           "arrowwidth": 1
          },
          "autotypenumbers": "strict",
          "coloraxis": {
           "colorbar": {
            "outlinewidth": 0,
            "ticks": ""
           }
          },
          "colorscale": {
           "diverging": [
            [
             0,
             "#8e0152"
            ],
            [
             0.1,
             "#c51b7d"
            ],
            [
             0.2,
             "#de77ae"
            ],
            [
             0.3,
             "#f1b6da"
            ],
            [
             0.4,
             "#fde0ef"
            ],
            [
             0.5,
             "#f7f7f7"
            ],
            [
             0.6,
             "#e6f5d0"
            ],
            [
             0.7,
             "#b8e186"
            ],
            [
             0.8,
             "#7fbc41"
            ],
            [
             0.9,
             "#4d9221"
            ],
            [
             1,
             "#276419"
            ]
           ],
           "sequential": [
            [
             0,
             "#0d0887"
            ],
            [
             0.1111111111111111,
             "#46039f"
            ],
            [
             0.2222222222222222,
             "#7201a8"
            ],
            [
             0.3333333333333333,
             "#9c179e"
            ],
            [
             0.4444444444444444,
             "#bd3786"
            ],
            [
             0.5555555555555556,
             "#d8576b"
            ],
            [
             0.6666666666666666,
             "#ed7953"
            ],
            [
             0.7777777777777778,
             "#fb9f3a"
            ],
            [
             0.8888888888888888,
             "#fdca26"
            ],
            [
             1,
             "#f0f921"
            ]
           ],
           "sequentialminus": [
            [
             0,
             "#0d0887"
            ],
            [
             0.1111111111111111,
             "#46039f"
            ],
            [
             0.2222222222222222,
             "#7201a8"
            ],
            [
             0.3333333333333333,
             "#9c179e"
            ],
            [
             0.4444444444444444,
             "#bd3786"
            ],
            [
             0.5555555555555556,
             "#d8576b"
            ],
            [
             0.6666666666666666,
             "#ed7953"
            ],
            [
             0.7777777777777778,
             "#fb9f3a"
            ],
            [
             0.8888888888888888,
             "#fdca26"
            ],
            [
             1,
             "#f0f921"
            ]
           ]
          },
          "colorway": [
           "#636efa",
           "#EF553B",
           "#00cc96",
           "#ab63fa",
           "#FFA15A",
           "#19d3f3",
           "#FF6692",
           "#B6E880",
           "#FF97FF",
           "#FECB52"
          ],
          "font": {
           "color": "#f2f5fa"
          },
          "geo": {
           "bgcolor": "rgb(17,17,17)",
           "lakecolor": "rgb(17,17,17)",
           "landcolor": "rgb(17,17,17)",
           "showlakes": true,
           "showland": true,
           "subunitcolor": "#506784"
          },
          "hoverlabel": {
           "align": "left"
          },
          "hovermode": "closest",
          "mapbox": {
           "style": "dark"
          },
          "paper_bgcolor": "rgb(17,17,17)",
          "plot_bgcolor": "rgb(17,17,17)",
          "polar": {
           "angularaxis": {
            "gridcolor": "#506784",
            "linecolor": "#506784",
            "ticks": ""
           },
           "bgcolor": "rgb(17,17,17)",
           "radialaxis": {
            "gridcolor": "#506784",
            "linecolor": "#506784",
            "ticks": ""
           }
          },
          "scene": {
           "xaxis": {
            "backgroundcolor": "rgb(17,17,17)",
            "gridcolor": "#506784",
            "gridwidth": 2,
            "linecolor": "#506784",
            "showbackground": true,
            "ticks": "",
            "zerolinecolor": "#C8D4E3"
           },
           "yaxis": {
            "backgroundcolor": "rgb(17,17,17)",
            "gridcolor": "#506784",
            "gridwidth": 2,
            "linecolor": "#506784",
            "showbackground": true,
            "ticks": "",
            "zerolinecolor": "#C8D4E3"
           },
           "zaxis": {
            "backgroundcolor": "rgb(17,17,17)",
            "gridcolor": "#506784",
            "gridwidth": 2,
            "linecolor": "#506784",
            "showbackground": true,
            "ticks": "",
            "zerolinecolor": "#C8D4E3"
           }
          },
          "shapedefaults": {
           "line": {
            "color": "#f2f5fa"
           }
          },
          "sliderdefaults": {
           "bgcolor": "#C8D4E3",
           "bordercolor": "rgb(17,17,17)",
           "borderwidth": 1,
           "tickwidth": 0
          },
          "ternary": {
           "aaxis": {
            "gridcolor": "#506784",
            "linecolor": "#506784",
            "ticks": ""
           },
           "baxis": {
            "gridcolor": "#506784",
            "linecolor": "#506784",
            "ticks": ""
           },
           "bgcolor": "rgb(17,17,17)",
           "caxis": {
            "gridcolor": "#506784",
            "linecolor": "#506784",
            "ticks": ""
           }
          },
          "title": {
           "x": 0.05
          },
          "updatemenudefaults": {
           "bgcolor": "#506784",
           "borderwidth": 0
          },
          "xaxis": {
           "automargin": true,
           "gridcolor": "#283442",
           "linecolor": "#506784",
           "ticks": "",
           "title": {
            "standoff": 15
           },
           "zerolinecolor": "#283442",
           "zerolinewidth": 2
          },
          "yaxis": {
           "automargin": true,
           "gridcolor": "#283442",
           "linecolor": "#506784",
           "ticks": "",
           "title": {
            "standoff": 15
           },
           "zerolinecolor": "#283442",
           "zerolinewidth": 2
          }
         }
        },
        "title": {
         "text": "Última intersección de f(x) = sin(x)/x con y = 0.015"
        },
        "xaxis": {
         "range": [
          60,
          70
         ],
         "title": {
          "text": "x"
         }
        },
        "yaxis": {
         "range": [
          0.01,
          0.02
         ],
         "title": {
          "text": "f(x)"
         }
        }
       }
      }
     },
     "metadata": {},
     "output_type": "display_data"
    }
   ],
   "source": [
    "\n",
    "def f_sinc(x):\n",
    "    return np.sin(x) / x\n",
    "\n",
    "x_vals = np.linspace(0.1, 100, 2000)\n",
    "y_vals = f_sinc(x_vals)\n",
    "\n",
    "condicion = 0.015\n",
    "x_T = 63.1205\n",
    "\n",
    "fig = go.Figure()\n",
    "\n",
    "fig.add_trace(go.Scatter(\n",
    "    x=x_vals,\n",
    "    y=y_vals,\n",
    "    mode='lines',\n",
    "    name='f(x) = sin(x)/x',\n",
    "    line=dict(color='lightgreen', width=2)\n",
    "))\n",
    "\n",
    "fig.add_trace(go.Scatter(\n",
    "    x=[0.1, 100],\n",
    "    y=[condicion, condicion],\n",
    "    mode='lines',\n",
    "    name='y = 0.015',\n",
    "    line=dict(color='orange', width=2, dash='dash')\n",
    "))\n",
    "\n",
    "fig.add_trace(go.Scatter(\n",
    "    x=[x_T],\n",
    "    y=[condicion],\n",
    "    mode='markers',\n",
    "    name=f'Punto x_T ≈ {x_T:.2f}',\n",
    "    marker=dict(color='red', size=10, symbol='x')\n",
    "))\n",
    "\n",
    "fig.update_layout(\n",
    "    title='Última intersección de f(x) = sin(x)/x con y = 0.015',\n",
    "    xaxis_title='x',\n",
    "    yaxis_title='f(x)',\n",
    "    template='plotly_dark',\n",
    "    xaxis_range=[60, 70],\n",
    "    yaxis_range=[0.01, 0.02]\n",
    ")\n",
    "\n",
    "fig.show()"
   ]
  },
  {
   "cell_type": "code",
   "execution_count": null,
   "id": "dc9c37db",
   "metadata": {},
   "outputs": [],
   "source": []
  }
 ],
 "metadata": {
  "kernelspec": {
   "display_name": "Python 3",
   "language": "python",
   "name": "python3"
  },
  "language_info": {
   "codemirror_mode": {
    "name": "ipython",
    "version": 3
   },
   "file_extension": ".py",
   "mimetype": "text/x-python",
   "name": "python",
   "nbconvert_exporter": "python",
   "pygments_lexer": "ipython3",
   "version": "3.11.9"
  }
 },
 "nbformat": 4,
 "nbformat_minor": 5
}
